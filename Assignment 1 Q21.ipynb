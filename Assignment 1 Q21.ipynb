{
 "cells": [
  {
   "cell_type": "code",
   "execution_count": 12,
   "metadata": {},
   "outputs": [],
   "source": [
    "import pandas as pd \n",
    "import numpy as np\n",
    "import matplotlib.pyplot as plt \n",
    "%matplotlib inline \n",
    "import seaborn as sns \n"
   ]
  },
  {
   "cell_type": "code",
   "execution_count": 5,
   "metadata": {},
   "outputs": [],
   "source": [
    "df=pd.read_csv(\"C:\\Games\\Bhag Milkha Bhag 2013 Hindi MC DVDScr Xvid AC3 IcTv\\Desktop\\CSV\\Cars.csv\")"
   ]
  },
  {
   "cell_type": "code",
   "execution_count": 6,
   "metadata": {},
   "outputs": [
    {
     "data": {
      "text/html": [
       "<div>\n",
       "<style scoped>\n",
       "    .dataframe tbody tr th:only-of-type {\n",
       "        vertical-align: middle;\n",
       "    }\n",
       "\n",
       "    .dataframe tbody tr th {\n",
       "        vertical-align: top;\n",
       "    }\n",
       "\n",
       "    .dataframe thead th {\n",
       "        text-align: right;\n",
       "    }\n",
       "</style>\n",
       "<table border=\"1\" class=\"dataframe\">\n",
       "  <thead>\n",
       "    <tr style=\"text-align: right;\">\n",
       "      <th></th>\n",
       "      <th>HP</th>\n",
       "      <th>MPG</th>\n",
       "      <th>VOL</th>\n",
       "      <th>SP</th>\n",
       "      <th>WT</th>\n",
       "    </tr>\n",
       "  </thead>\n",
       "  <tbody>\n",
       "    <tr>\n",
       "      <th>0</th>\n",
       "      <td>49</td>\n",
       "      <td>53.700681</td>\n",
       "      <td>89</td>\n",
       "      <td>104.185353</td>\n",
       "      <td>28.762059</td>\n",
       "    </tr>\n",
       "    <tr>\n",
       "      <th>1</th>\n",
       "      <td>55</td>\n",
       "      <td>50.013401</td>\n",
       "      <td>92</td>\n",
       "      <td>105.461264</td>\n",
       "      <td>30.466833</td>\n",
       "    </tr>\n",
       "    <tr>\n",
       "      <th>2</th>\n",
       "      <td>55</td>\n",
       "      <td>50.013401</td>\n",
       "      <td>92</td>\n",
       "      <td>105.461264</td>\n",
       "      <td>30.193597</td>\n",
       "    </tr>\n",
       "    <tr>\n",
       "      <th>3</th>\n",
       "      <td>70</td>\n",
       "      <td>45.696322</td>\n",
       "      <td>92</td>\n",
       "      <td>113.461264</td>\n",
       "      <td>30.632114</td>\n",
       "    </tr>\n",
       "    <tr>\n",
       "      <th>4</th>\n",
       "      <td>53</td>\n",
       "      <td>50.504232</td>\n",
       "      <td>92</td>\n",
       "      <td>104.461264</td>\n",
       "      <td>29.889149</td>\n",
       "    </tr>\n",
       "    <tr>\n",
       "      <th>...</th>\n",
       "      <td>...</td>\n",
       "      <td>...</td>\n",
       "      <td>...</td>\n",
       "      <td>...</td>\n",
       "      <td>...</td>\n",
       "    </tr>\n",
       "    <tr>\n",
       "      <th>76</th>\n",
       "      <td>322</td>\n",
       "      <td>36.900000</td>\n",
       "      <td>50</td>\n",
       "      <td>169.598513</td>\n",
       "      <td>16.132947</td>\n",
       "    </tr>\n",
       "    <tr>\n",
       "      <th>77</th>\n",
       "      <td>238</td>\n",
       "      <td>19.197888</td>\n",
       "      <td>115</td>\n",
       "      <td>150.576579</td>\n",
       "      <td>37.923113</td>\n",
       "    </tr>\n",
       "    <tr>\n",
       "      <th>78</th>\n",
       "      <td>263</td>\n",
       "      <td>34.000000</td>\n",
       "      <td>50</td>\n",
       "      <td>151.598513</td>\n",
       "      <td>15.769625</td>\n",
       "    </tr>\n",
       "    <tr>\n",
       "      <th>79</th>\n",
       "      <td>295</td>\n",
       "      <td>19.833733</td>\n",
       "      <td>119</td>\n",
       "      <td>167.944460</td>\n",
       "      <td>39.423099</td>\n",
       "    </tr>\n",
       "    <tr>\n",
       "      <th>80</th>\n",
       "      <td>236</td>\n",
       "      <td>12.101263</td>\n",
       "      <td>107</td>\n",
       "      <td>139.840817</td>\n",
       "      <td>34.948615</td>\n",
       "    </tr>\n",
       "  </tbody>\n",
       "</table>\n",
       "<p>81 rows × 5 columns</p>\n",
       "</div>"
      ],
      "text/plain": [
       "     HP        MPG  VOL          SP         WT\n",
       "0    49  53.700681   89  104.185353  28.762059\n",
       "1    55  50.013401   92  105.461264  30.466833\n",
       "2    55  50.013401   92  105.461264  30.193597\n",
       "3    70  45.696322   92  113.461264  30.632114\n",
       "4    53  50.504232   92  104.461264  29.889149\n",
       "..  ...        ...  ...         ...        ...\n",
       "76  322  36.900000   50  169.598513  16.132947\n",
       "77  238  19.197888  115  150.576579  37.923113\n",
       "78  263  34.000000   50  151.598513  15.769625\n",
       "79  295  19.833733  119  167.944460  39.423099\n",
       "80  236  12.101263  107  139.840817  34.948615\n",
       "\n",
       "[81 rows x 5 columns]"
      ]
     },
     "execution_count": 6,
     "metadata": {},
     "output_type": "execute_result"
    }
   ],
   "source": [
    "df"
   ]
  },
  {
   "cell_type": "code",
   "execution_count": 8,
   "metadata": {},
   "outputs": [],
   "source": [
    "df1=(df.MPG)"
   ]
  },
  {
   "cell_type": "code",
   "execution_count": 9,
   "metadata": {},
   "outputs": [
    {
     "data": {
      "text/plain": [
       "0     53.700681\n",
       "1     50.013401\n",
       "2     50.013401\n",
       "3     45.696322\n",
       "4     50.504232\n",
       "        ...    \n",
       "76    36.900000\n",
       "77    19.197888\n",
       "78    34.000000\n",
       "79    19.833733\n",
       "80    12.101263\n",
       "Name: MPG, Length: 81, dtype: float64"
      ]
     },
     "execution_count": 9,
     "metadata": {},
     "output_type": "execute_result"
    }
   ],
   "source": [
    "df1"
   ]
  },
  {
   "cell_type": "code",
   "execution_count": 10,
   "metadata": {},
   "outputs": [
    {
     "data": {
      "text/plain": [
       "34.422075728024666"
      ]
     },
     "execution_count": 10,
     "metadata": {},
     "output_type": "execute_result"
    }
   ],
   "source": [
    "df1.mean()"
   ]
  },
  {
   "cell_type": "code",
   "execution_count": 11,
   "metadata": {},
   "outputs": [
    {
     "data": {
      "text/plain": [
       "9.131444731795982"
      ]
     },
     "execution_count": 11,
     "metadata": {},
     "output_type": "execute_result"
    }
   ],
   "source": [
    "df1.std()"
   ]
  },
  {
   "cell_type": "code",
   "execution_count": 14,
   "metadata": {},
   "outputs": [
    {
     "data": {
      "text/plain": [
       "<matplotlib.axes._subplots.AxesSubplot at 0xb0989a0>"
      ]
     },
     "execution_count": 14,
     "metadata": {},
     "output_type": "execute_result"
    },
    {
     "data": {
      "image/png": "[encoded data removed]",
      "text/plain": [
       "<Figure size 432x288 with 1 Axes>"
      ]
     },
     "metadata": {
      "needs_background": "light"
     },
     "output_type": "display_data"
    }
   ],
   "source": [
    "sns.distplot(df)"
   ]
  },
  {
   "cell_type": "code",
   "execution_count": 15,
   "metadata": {
    "collapsed": true
   },
   "outputs": [
    {
     "data": {
      "text/plain": [
       "(array([[1., 2., 2., 0., 0., 0., 0., 0., 0., 0.],\n",
       "        [1., 2., 1., 1., 0., 0., 0., 0., 0., 0.],\n",
       "        [1., 2., 1., 1., 0., 0., 0., 0., 0., 0.],\n",
       "        [1., 2., 1., 1., 0., 0., 0., 0., 0., 0.],\n",
       "        [1., 2., 2., 0., 0., 0., 0., 0., 0., 0.],\n",
       "        [1., 2., 1., 1., 0., 0., 0., 0., 0., 0.],\n",
       "        [1., 2., 1., 1., 0., 0., 0., 0., 0., 0.],\n",
       "        [1., 3., 1., 0., 0., 0., 0., 0., 0., 0.],\n",
       "        [1., 3., 1., 0., 0., 0., 0., 0., 0., 0.],\n",
       "        [2., 0., 2., 1., 0., 0., 0., 0., 0., 0.],\n",
       "        [1., 2., 1., 1., 0., 0., 0., 0., 0., 0.],\n",
       "        [2., 1., 1., 1., 0., 0., 0., 0., 0., 0.],\n",
       "        [2., 0., 2., 1., 0., 0., 0., 0., 0., 0.],\n",
       "        [1., 2., 1., 1., 0., 0., 0., 0., 0., 0.],\n",
       "        [1., 2., 1., 1., 0., 0., 0., 0., 0., 0.],\n",
       "        [1., 2., 1., 1., 0., 0., 0., 0., 0., 0.],\n",
       "        [2., 0., 2., 1., 0., 0., 0., 0., 0., 0.],\n",
       "        [2., 1., 1., 1., 0., 0., 0., 0., 0., 0.],\n",
       "        [2., 0., 2., 1., 0., 0., 0., 0., 0., 0.],\n",
       "        [2., 0., 2., 1., 0., 0., 0., 0., 0., 0.],\n",
       "        [2., 0., 2., 1., 0., 0., 0., 0., 0., 0.],\n",
       "        [2., 1., 0., 2., 0., 0., 0., 0., 0., 0.],\n",
       "        [2., 0., 2., 1., 0., 0., 0., 0., 0., 0.],\n",
       "        [2., 0., 2., 1., 0., 0., 0., 0., 0., 0.],\n",
       "        [2., 0., 2., 1., 0., 0., 0., 0., 0., 0.],\n",
       "        [2., 1., 1., 1., 0., 0., 0., 0., 0., 0.],\n",
       "        [2., 0., 1., 2., 0., 0., 0., 0., 0., 0.],\n",
       "        [2., 0., 2., 1., 0., 0., 0., 0., 0., 0.],\n",
       "        [1., 2., 2., 0., 0., 0., 0., 0., 0., 0.],\n",
       "        [2., 0., 1., 2., 0., 0., 0., 0., 0., 0.],\n",
       "        [2., 0., 1., 2., 0., 0., 0., 0., 0., 0.],\n",
       "        [2., 0., 2., 1., 0., 0., 0., 0., 0., 0.],\n",
       "        [2., 0., 2., 1., 0., 0., 0., 0., 0., 0.],\n",
       "        [2., 0., 1., 2., 0., 0., 0., 0., 0., 0.],\n",
       "        [2., 0., 2., 1., 0., 0., 0., 0., 0., 0.],\n",
       "        [2., 0., 2., 1., 0., 0., 0., 0., 0., 0.],\n",
       "        [2., 0., 2., 1., 0., 0., 0., 0., 0., 0.],\n",
       "        [2., 0., 2., 1., 0., 0., 0., 0., 0., 0.],\n",
       "        [2., 0., 2., 1., 0., 0., 0., 0., 0., 0.],\n",
       "        [2., 0., 1., 2., 0., 0., 0., 0., 0., 0.],\n",
       "        [2., 0., 1., 2., 0., 0., 0., 0., 0., 0.],\n",
       "        [2., 0., 1., 2., 0., 0., 0., 0., 0., 0.],\n",
       "        [2., 0., 2., 1., 0., 0., 0., 0., 0., 0.],\n",
       "        [2., 0., 2., 1., 0., 0., 0., 0., 0., 0.],\n",
       "        [2., 0., 2., 1., 0., 0., 0., 0., 0., 0.],\n",
       "        [2., 0., 2., 1., 0., 0., 0., 0., 0., 0.],\n",
       "        [2., 0., 1., 2., 0., 0., 0., 0., 0., 0.],\n",
       "        [2., 0., 2., 1., 0., 0., 0., 0., 0., 0.],\n",
       "        [2., 0., 1., 2., 0., 0., 0., 0., 0., 0.],\n",
       "        [2., 0., 1., 2., 0., 0., 0., 0., 0., 0.],\n",
       "        [2., 0., 1., 2., 0., 0., 0., 0., 0., 0.],\n",
       "        [2., 0., 1., 2., 0., 0., 0., 0., 0., 0.],\n",
       "        [2., 0., 0., 3., 0., 0., 0., 0., 0., 0.],\n",
       "        [2., 0., 0., 1., 1., 1., 0., 0., 0., 0.],\n",
       "        [2., 0., 0., 2., 1., 0., 0., 0., 0., 0.],\n",
       "        [2., 0., 0., 3., 0., 0., 0., 0., 0., 0.],\n",
       "        [2., 0., 2., 1., 0., 0., 0., 0., 0., 0.],\n",
       "        [2., 0., 1., 2., 0., 0., 0., 0., 0., 0.],\n",
       "        [2., 0., 2., 1., 0., 0., 0., 0., 0., 0.],\n",
       "        [2., 0., 1., 2., 0., 0., 0., 0., 0., 0.],\n",
       "        [2., 0., 0., 2., 1., 0., 0., 0., 0., 0.],\n",
       "        [2., 0., 0., 3., 0., 0., 0., 0., 0., 0.],\n",
       "        [1., 1., 0., 2., 1., 0., 0., 0., 0., 0.],\n",
       "        [2., 0., 0., 2., 1., 0., 0., 0., 0., 0.],\n",
       "        [2., 0., 0., 2., 1., 0., 0., 0., 0., 0.],\n",
       "        [2., 1., 0., 1., 1., 0., 0., 0., 0., 0.],\n",
       "        [2., 0., 0., 2., 1., 0., 0., 0., 0., 0.],\n",
       "        [2., 0., 0., 2., 1., 0., 0., 0., 0., 0.],\n",
       "        [2., 0., 0., 2., 1., 0., 0., 0., 0., 0.],\n",
       "        [2., 0., 0., 1., 1., 0., 0., 1., 0., 0.],\n",
       "        [2., 1., 0., 0., 1., 0., 0., 0., 1., 0.],\n",
       "        [1., 1., 0., 2., 1., 0., 0., 0., 0., 0.],\n",
       "        [1., 1., 0., 2., 1., 0., 0., 0., 0., 0.],\n",
       "        [1., 1., 0., 1., 2., 0., 0., 0., 0., 0.],\n",
       "        [2., 0., 0., 2., 1., 0., 0., 0., 0., 0.],\n",
       "        [2., 0., 0., 2., 0., 1., 0., 0., 0., 0.],\n",
       "        [2., 1., 0., 0., 0., 1., 0., 0., 0., 1.],\n",
       "        [2., 0., 0., 1., 1., 0., 0., 1., 0., 0.],\n",
       "        [2., 1., 0., 0., 1., 0., 0., 0., 1., 0.],\n",
       "        [2., 0., 0., 1., 0., 1., 0., 0., 0., 1.],\n",
       "        [2., 0., 0., 1., 1., 0., 0., 1., 0., 0.]]),\n",
       " array([ 12.10126289,  43.0911366 ,  74.08101031, 105.07088402,\n",
       "        136.06075773, 167.05063144, 198.04050516, 229.03037887,\n",
       "        260.02025258, 291.01012629, 322.        ]),\n",
       " <a list of 81 Lists of Patches objects>)"
      ]
     },
     "execution_count": 15,
     "metadata": {},
     "output_type": "execute_result"
    },
    {
     "data": {
      "image/png": "[encoded data removed]",
      "text/plain": [
       "<Figure size 432x288 with 1 Axes>"
      ]
     },
     "metadata": {
      "needs_background": "light"
     },
     "output_type": "display_data"
    }
   ],
   "source": [
    "plt.hist(df)"
   ]
  },
  {
   "cell_type": "code",
   "execution_count": 16,
   "metadata": {},
   "outputs": [
    {
     "data": {
      "text/plain": [
       "(array([ 1.,  6., 10.,  4., 10., 15., 17.,  8.,  5.,  5.]),\n",
       " array([12.10126289, 16.26120474, 20.42114659, 24.58108844, 28.74103029,\n",
       "        32.90097213, 37.06091398, 41.22085583, 45.38079768, 49.54073953,\n",
       "        53.70068138]),\n",
       " <a list of 10 Patch objects>)"
      ]
     },
     "execution_count": 16,
     "metadata": {},
     "output_type": "execute_result"
    },
    {
     "data": {
      "image/png": "[encoded data removed]",
      "text/plain": [
       "<Figure size 432x288 with 1 Axes>"
      ]
     },
     "metadata": {
      "needs_background": "light"
     },
     "output_type": "display_data"
    }
   ],
   "source": [
    "plt.hist(df1)"
   ]
  },
  {
   "cell_type": "code",
   "execution_count": null,
   "metadata": {},
   "outputs": [],
   "source": []
  }
 ],
 "metadata": {
  "kernelspec": {
   "display_name": "Python 3",
   "language": "python",
   "name": "python3"
  },
  "language_info": {
   "codemirror_mode": {
    "name": "ipython",
    "version": 3
   },
   "file_extension": ".py",
   "mimetype": "text/x-python",
   "name": "python",
   "nbconvert_exporter": "python",
   "pygments_lexer": "ipython3",
   "version": "3.8.3"
  }
 },
 "nbformat": 4,
 "nbformat_minor": 4
}
